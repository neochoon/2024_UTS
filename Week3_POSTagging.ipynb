{
  "nbformat": 4,
  "nbformat_minor": 0,
  "metadata": {
    "colab": {
      "provenance": [],
      "include_colab_link": true
    },
    "kernelspec": {
      "name": "python3",
      "display_name": "Python 3"
    },
    "language_info": {
      "name": "python"
    }
  },
  "cells": [
    {
      "cell_type": "markdown",
      "metadata": {
        "id": "view-in-github",
        "colab_type": "text"
      },
      "source": [
        "<a href=\"https://colab.research.google.com/github/neochoon/2024_UTS/blob/main/Week3_POSTagging.ipynb\" target=\"_parent\"><img src=\"https://colab.research.google.com/assets/colab-badge.svg\" alt=\"Open In Colab\"/></a>"
      ]
    },
    {
      "cell_type": "markdown",
      "source": [
        "## In this exercise, we will\n",
        "- try an existing POS tool from a Python library called \"nltk\", and then\n",
        "- we will create our own POS tool."
      ],
      "metadata": {
        "id": "Kw8CoJg6tP8m"
      }
    },
    {
      "cell_type": "code",
      "execution_count": 3,
      "metadata": {
        "id": "EnnkoZ4YIuO0"
      },
      "outputs": [],
      "source": [
        "import nltk\n",
        "from nltk.tokenize import word_tokenize\n",
        "nltk.download('punkt')\n",
        "nltk.download('averaged_perceptron_tagger')"
      ]
    },
    {
      "cell_type": "markdown",
      "source": [
        "| Abbreviation | Meaning                                            | Abbreviation | Meaning                                            | Abbreviation | Meaning                                            |\n",
        "|--------------|----------------------------------------------------|--------------|----------------------------------------------------|--------------|----------------------------------------------------|\n",
        "| CC           | coordinating conjunction                           | CD           | cardinal digit                                     | DT           | determiner                                         |\n",
        "| EX           | existential there                                  | FW           | foreign word                                       | IN           | preposition/subordinating conjunction              |\n",
        "| JJ           | This NLTK POS Tag is an adjective (large)          | JJR          | adjective, comparative (larger)                    | JJS          | adjective, superlative (largest)                   |\n",
        "| LS           | list market                                        | MD           | modal (could, will)                                | NN           | noun, singular (cat, tree)                         |\n",
        "| NNS          | noun plural (desks)                                | NNP          | proper noun, singular (sarah)                      | NNPS         | proper noun, plural (indians or americans)         |\n",
        "| PDT          | predeterminer (all, both, half)                    | POS          | possessive ending (parent' s)                      | PRP          | personal pronoun (hers, herself, him, himself)     |\n",
        "| PRP$         | possessive pronoun (her, his, mine, my, our)       | RB           | adverb (occasionally, swiftly)                     | RBR          | adverb, comparative (greater)                      |\n",
        "| RBS          | adverb, superlative (biggest)                      | RP           | particle (about)                                   | TO           | infinite marker (to)                               |\n",
        "| UH           | interjection (goodbye)                              | VB           | verb (ask)                                         | VBG          | verb gerund (judging)                              |\n",
        "| VBD          | verb past tense (pleaded)                          | VBN          | verb past participle (reunified)                   | VBP          | verb, present tense not 3rd person singular(wrap)  |\n",
        "| VBZ          | verb, present tense with 3rd person singular (bases) | WDT          | wh-determiner (that, what)                         | WP           | wh- pronoun (who)                                  |\n",
        "| WRB          | wh- adverb (how)                                   |\n"
      ],
      "metadata": {
        "id": "Mqa3au6hrpuA"
      }
    },
    {
      "cell_type": "code",
      "source": [
        "text = word_tokenize(\"And now for something completely different\")\n",
        "result1 = nltk.pos_tag(text)\n",
        "\n",
        "# Same word with different POS tags\n",
        "text = word_tokenize(\"They refuse to permit us to obtain the refuse permit\")\n",
        "result2=nltk.pos_tag(text)\n",
        "\n",
        "display(result1)\n",
        "print('')\n",
        "display(result2)\n",
        "# Your Turn - what same words in a sentence can you think of that have different POS tags?\n",
        "\n",
        "############################"
      ],
      "metadata": {
        "id": "wbXW8VZ_JC75",
        "colab": {
          "base_uri": "https://localhost:8080/",
          "height": 321
        },
        "outputId": "5ae96763-e930-4f8b-9165-2d4133f648d5"
      },
      "execution_count": 4,
      "outputs": [
        {
          "output_type": "display_data",
          "data": {
            "text/plain": [
              "[('And', 'CC'),\n",
              " ('now', 'RB'),\n",
              " ('for', 'IN'),\n",
              " ('something', 'NN'),\n",
              " ('completely', 'RB'),\n",
              " ('different', 'JJ')]"
            ]
          },
          "metadata": {}
        },
        {
          "output_type": "stream",
          "name": "stdout",
          "text": [
            "\n"
          ]
        },
        {
          "output_type": "display_data",
          "data": {
            "text/plain": [
              "[('They', 'PRP'),\n",
              " ('refuse', 'VBP'),\n",
              " ('to', 'TO'),\n",
              " ('permit', 'VB'),\n",
              " ('us', 'PRP'),\n",
              " ('to', 'TO'),\n",
              " ('obtain', 'VB'),\n",
              " ('the', 'DT'),\n",
              " ('refuse', 'NN'),\n",
              " ('permit', 'NN')]"
            ]
          },
          "metadata": {}
        }
      ]
    },
    {
      "cell_type": "code",
      "source": [
        "# Now let's train our own POS tag classifier\n",
        "# Download tagged text data\n",
        "nltk.download('treebank')\n",
        "tagged_sentences = nltk.corpus.treebank.tagged_sents()\n",
        "\n",
        "# Check a sentence\n",
        "display(tagged_sentences[0])\n",
        "\n",
        "############################\n"
      ],
      "metadata": {
        "id": "q9lMbH50JHrw",
        "colab": {
          "base_uri": "https://localhost:8080/",
          "height": 374
        },
        "outputId": "071a5f90-f1f6-47d5-8347-462fe3df0b29"
      },
      "execution_count": 6,
      "outputs": [
        {
          "output_type": "stream",
          "name": "stderr",
          "text": [
            "[nltk_data] Downloading package treebank to /root/nltk_data...\n",
            "[nltk_data]   Package treebank is already up-to-date!\n"
          ]
        },
        {
          "output_type": "display_data",
          "data": {
            "text/plain": [
              "[('Pierre', 'NNP'),\n",
              " ('Vinken', 'NNP'),\n",
              " (',', ','),\n",
              " ('61', 'CD'),\n",
              " ('years', 'NNS'),\n",
              " ('old', 'JJ'),\n",
              " (',', ','),\n",
              " ('will', 'MD'),\n",
              " ('join', 'VB'),\n",
              " ('the', 'DT'),\n",
              " ('board', 'NN'),\n",
              " ('as', 'IN'),\n",
              " ('a', 'DT'),\n",
              " ('nonexecutive', 'JJ'),\n",
              " ('director', 'NN'),\n",
              " ('Nov.', 'NNP'),\n",
              " ('29', 'CD'),\n",
              " ('.', '.')]"
            ]
          },
          "metadata": {}
        }
      ]
    },
    {
      "cell_type": "code",
      "source": [
        "# Now let's create features for each word.\n",
        "\n",
        "def features(sentence, index):\n",
        "    \"\"\" sentence: [w1, w2, ...], index: the index of the word \"\"\"\n",
        "    return {\n",
        "        'word': sentence[index],\n",
        "        'is_first': index == 0,\n",
        "        'is_last': index == len(sentence) - 1,\n",
        "        'is_capitalized': sentence[index][0].upper() == sentence[index][0],\n",
        "        'is_all_caps': sentence[index].upper() == sentence[index],\n",
        "        'is_all_lower': sentence[index].lower() == sentence[index],\n",
        "        'prefix-1': sentence[index][0],\n",
        "        'prefix-2': sentence[index][:2],\n",
        "        'prefix-3': sentence[index][:3],\n",
        "        'suffix-1': sentence[index][-1],\n",
        "        'suffix-2': sentence[index][-2:],\n",
        "        'suffix-3': sentence[index][-3:],\n",
        "        'prev_word': '' if index == 0 else sentence[index - 1],\n",
        "        'next_word': '' if index == len(sentence) - 1 else sentence[index + 1],\n",
        "        'has_hyphen': '-' in sentence[index],\n",
        "        'is_numeric': sentence[index].isdigit(),\n",
        "        'capitals_inside': sentence[index][1:].lower() != sentence[index][1:]\n",
        "    }\n",
        "\n",
        "import pprint\n",
        "pprint.pprint(features(['This', 'is', 'a', 'sentence'], 3)) # index == 2\n",
        "\n",
        "{'capitals_inside': False,\n",
        " 'has_hyphen': False,\n",
        " 'is_all_caps': False,\n",
        " 'is_all_lower': True,\n",
        " 'is_capitalized': False,\n",
        " 'is_first': False,\n",
        " 'is_last': False,\n",
        " 'is_numeric': False,\n",
        " 'next_word': 'sentence',\n",
        " 'prefix-1': 'a',\n",
        " 'prefix-2': 'a',\n",
        " 'prefix-3': 'a',\n",
        " 'prev_word': 'is',\n",
        " 'suffix-1': 'a',\n",
        " 'suffix-2': 'a',\n",
        " 'suffix-3': 'a',\n",
        " 'word': 'a'}\n",
        "print('------')\n",
        "display(features(['This', 'is', 'a', 'sentence'], 3))\n",
        "# Try different indices\n",
        "\n",
        "############################\n",
        "\n",
        "# Small helper function to strip the tags from our tagged corpus and feed it to our classifier:\n",
        "def untag(tagged_sentence):\n",
        "    return [w for w, t in tagged_sentence]\n",
        "\n",
        "\n",
        "# Split the dataset for training and testing\n",
        "cutoff = int(.75 * len(tagged_sentences))\n",
        "training_sentences = tagged_sentences[:cutoff]\n",
        "test_sentences = tagged_sentences[cutoff:]\n",
        "\n",
        "print(len(training_sentences))   # 2935\n",
        "print(len(test_sentences))      # 979\n",
        "\n",
        "# Transform the list of sentences to a list of features\n",
        "def transform_to_dataset(tagged_sentences):\n",
        "    X, y = [], []\n",
        "\n",
        "    for tagged in tagged_sentences:\n",
        "        for index in range(len(tagged)):\n",
        "            X.append(features(untag(tagged), index))\n",
        "            y.append(tagged[index][1])\n",
        "\n",
        "    return X, y\n",
        "\n",
        "X, y = transform_to_dataset(training_sentences)\n",
        "\n",
        "print(len(X)) # 75784\n",
        "print(len(y)) # 75784"
      ],
      "metadata": {
        "id": "9MYCJbPmJLYY",
        "colab": {
          "base_uri": "https://localhost:8080/",
          "height": 714
        },
        "outputId": "914b2b62-9593-4f50-fbf5-96dbde289128"
      },
      "execution_count": 9,
      "outputs": [
        {
          "output_type": "stream",
          "name": "stdout",
          "text": [
            "{'capitals_inside': False,\n",
            " 'has_hyphen': False,\n",
            " 'is_all_caps': False,\n",
            " 'is_all_lower': True,\n",
            " 'is_capitalized': False,\n",
            " 'is_first': False,\n",
            " 'is_last': True,\n",
            " 'is_numeric': False,\n",
            " 'next_word': '',\n",
            " 'prefix-1': 's',\n",
            " 'prefix-2': 'se',\n",
            " 'prefix-3': 'sen',\n",
            " 'prev_word': 'a',\n",
            " 'suffix-1': 'e',\n",
            " 'suffix-2': 'ce',\n",
            " 'suffix-3': 'nce',\n",
            " 'word': 'sentence'}\n",
            "------\n"
          ]
        },
        {
          "output_type": "display_data",
          "data": {
            "text/plain": [
              "{'word': 'sentence',\n",
              " 'is_first': False,\n",
              " 'is_last': True,\n",
              " 'is_capitalized': False,\n",
              " 'is_all_caps': False,\n",
              " 'is_all_lower': True,\n",
              " 'prefix-1': 's',\n",
              " 'prefix-2': 'se',\n",
              " 'prefix-3': 'sen',\n",
              " 'suffix-1': 'e',\n",
              " 'suffix-2': 'ce',\n",
              " 'suffix-3': 'nce',\n",
              " 'prev_word': 'a',\n",
              " 'next_word': '',\n",
              " 'has_hyphen': False,\n",
              " 'is_numeric': False,\n",
              " 'capitals_inside': False}"
            ]
          },
          "metadata": {}
        },
        {
          "output_type": "stream",
          "name": "stdout",
          "text": [
            "2935\n",
            "979\n",
            "75784\n",
            "75784\n"
          ]
        }
      ]
    },
    {
      "cell_type": "code",
      "source": [
        "# We are now ready to train a classifier.\n",
        "\n",
        "###### Now you have to click the \"Run\" bottom above ######\n",
        "###### Do NOT copy & paste the below ######\n",
        "\n",
        "from sklearn.tree import DecisionTreeClassifier\n",
        "from sklearn.feature_extraction import DictVectorizer\n",
        "from sklearn.pipeline import Pipeline\n",
        "\n",
        "clf = Pipeline([\n",
        "    ('vectorizer', DictVectorizer(sparse=False)),\n",
        "    ('classifier', DecisionTreeClassifier(criterion='entropy'))\n",
        "])\n",
        "\n",
        "clf.fit(X[:100], y[:100])   # Use only the first 100 samples if you're running it multiple times. It takes a fair bit :)\n",
        "\n",
        "print(\"Training completed\")\n",
        "\n",
        "X_test, y_test = transform_to_dataset(test_sentences)\n",
        "\n",
        "print (\"Accuracy:\", clf.score(X_test, y_test))\n"
      ],
      "metadata": {
        "id": "POHVKSJuJRSv",
        "colab": {
          "base_uri": "https://localhost:8080/"
        },
        "outputId": "4a20b6ef-4868-413f-d7e8-81a11af63ce9"
      },
      "execution_count": 10,
      "outputs": [
        {
          "output_type": "stream",
          "name": "stdout",
          "text": [
            "Training completed\n",
            "Accuracy: 0.5193636509721999\n"
          ]
        }
      ]
    },
    {
      "cell_type": "code",
      "source": [
        "print(X[0])\n",
        "print(y[0])"
      ],
      "metadata": {
        "colab": {
          "base_uri": "https://localhost:8080/"
        },
        "id": "0f1NJKa7D8CZ",
        "outputId": "6611ff6c-9555-47d1-87d9-6ea6e123643b"
      },
      "execution_count": 14,
      "outputs": [
        {
          "output_type": "stream",
          "name": "stdout",
          "text": [
            "{'word': 'Pierre', 'is_first': True, 'is_last': False, 'is_capitalized': True, 'is_all_caps': False, 'is_all_lower': False, 'prefix-1': 'P', 'prefix-2': 'Pi', 'prefix-3': 'Pie', 'suffix-1': 'e', 'suffix-2': 're', 'suffix-3': 'rre', 'prev_word': '', 'next_word': 'Vinken', 'has_hyphen': False, 'is_numeric': False, 'capitals_inside': False}\n",
            "NNP\n"
          ]
        }
      ]
    },
    {
      "cell_type": "code",
      "source": [
        "# Now you can use your classifier to tag any tagged_sentences, such as \"I am studying NLP in UTS.\"\n",
        "def my_pos_tag(sentence):\n",
        "    tags = clf.predict([features(sentence, index) for index in range(len(sentence))])\n",
        "    return (sentence, tags)\n",
        "\n",
        "my_text = word_tokenize(\"I am studying NLP at UTS.\")\n",
        "print(list(my_pos_tag(my_text)))"
      ],
      "metadata": {
        "id": "gcRp9igEJTFa",
        "colab": {
          "base_uri": "https://localhost:8080/"
        },
        "outputId": "02c3cd79-737c-4bb3-f4c8-e2ca5a991900"
      },
      "execution_count": 11,
      "outputs": [
        {
          "output_type": "stream",
          "name": "stdout",
          "text": [
            "[['I', 'am', 'studying', 'NLP', 'at', 'UTS', '.'], array(['DT', 'IN', 'NN', 'NNP', 'IN', 'NNP', '.'], dtype='<U6')]\n"
          ]
        }
      ]
    },
    {
      "cell_type": "code",
      "source": [
        "nltk.pos_tag(my_text)"
      ],
      "metadata": {
        "colab": {
          "base_uri": "https://localhost:8080/"
        },
        "id": "c2wd9WB0B7cI",
        "outputId": "295a8059-ffe0-4763-c9f4-e0fb654dc991"
      },
      "execution_count": 12,
      "outputs": [
        {
          "output_type": "execute_result",
          "data": {
            "text/plain": [
              "[('I', 'PRP'),\n",
              " ('am', 'VBP'),\n",
              " ('studying', 'VBG'),\n",
              " ('NLP', 'NNP'),\n",
              " ('at', 'IN'),\n",
              " ('UTS', 'NNP'),\n",
              " ('.', '.')]"
            ]
          },
          "metadata": {},
          "execution_count": 12
        }
      ]
    },
    {
      "cell_type": "code",
      "source": [],
      "metadata": {
        "id": "jE2id296CGA8"
      },
      "execution_count": null,
      "outputs": []
    }
  ]
}
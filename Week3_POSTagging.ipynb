{
  "nbformat": 4,
  "nbformat_minor": 0,
  "metadata": {
    "colab": {
      "provenance": [],
      "include_colab_link": true
    },
    "kernelspec": {
      "name": "python3",
      "display_name": "Python 3"
    },
    "language_info": {
      "name": "python"
    }
  },
  "cells": [
    {
      "cell_type": "markdown",
      "metadata": {
        "id": "view-in-github",
        "colab_type": "text"
      },
      "source": [
        "<a href=\"https://colab.research.google.com/github/neochoon/2024_UTS/blob/main/Week3_POSTagging.ipynb\" target=\"_parent\"><img src=\"https://colab.research.google.com/assets/colab-badge.svg\" alt=\"Open In Colab\"/></a>"
      ]
    },
    {
      "cell_type": "markdown",
      "source": [
        "## In this exercise, we will\n",
        "- try an existing POS tool from a Python library called \"nltk\", and then\n",
        "- we will create our own POS tool."
      ],
      "metadata": {
        "id": "Kw8CoJg6tP8m"
      }
    },
    {
      "cell_type": "code",
      "execution_count": null,
      "metadata": {
        "id": "EnnkoZ4YIuO0"
      },
      "outputs": [],
      "source": [
        "\n",
        "import nltk\n",
        "from nltk.tokenize import word_tokenize\n",
        "nltk.download('punkt')\n",
        "nltk.download('averaged_perceptron_tagger')\n"
      ]
    },
    {
      "cell_type": "code",
      "source": [
        "text = word_tokenize(\"And now for something completely different\")\n",
        "nltk.pos_tag(text)\n",
        "\n",
        "# Same word with different POS tags\n",
        "text = word_tokenize(\"They refuse to permit us to obtain the refuse permit\")\n",
        "nltk.pos_tag(text)\n",
        "\n",
        "# Your Turn - what same words in a sentence can you think of that have different POS tags?\n",
        "\n",
        "############################\n",
        "\n",
        "\n"
      ],
      "metadata": {
        "id": "wbXW8VZ_JC75"
      },
      "execution_count": null,
      "outputs": []
    },
    {
      "cell_type": "code",
      "source": [
        "# Now let's train our own POS tag classifier\n",
        "# Download tagged text data\n",
        "nltk.download('treebank')\n",
        "tagged_sentences = nltk.corpus.treebank.tagged_sents()\n",
        "\n",
        "# Check a sentence\n",
        "print(tagged_sentences[0])\n",
        "\n",
        "############################\n"
      ],
      "metadata": {
        "id": "q9lMbH50JHrw"
      },
      "execution_count": null,
      "outputs": []
    },
    {
      "cell_type": "code",
      "source": [
        "# Now let's create features for each word.\n",
        "\n",
        "def features(sentence, index):\n",
        "    \"\"\" sentence: [w1, w2, ...], index: the index of the word \"\"\"\n",
        "    return {\n",
        "        'word': sentence[index],\n",
        "        'is_first': index == 0,\n",
        "        'is_last': index == len(sentence) - 1,\n",
        "        'is_capitalized': sentence[index][0].upper() == sentence[index][0],\n",
        "        'is_all_caps': sentence[index].upper() == sentence[index],\n",
        "        'is_all_lower': sentence[index].lower() == sentence[index],\n",
        "        'prefix-1': sentence[index][0],\n",
        "        'prefix-2': sentence[index][:2],\n",
        "        'prefix-3': sentence[index][:3],\n",
        "        'suffix-1': sentence[index][-1],\n",
        "        'suffix-2': sentence[index][-2:],\n",
        "        'suffix-3': sentence[index][-3:],\n",
        "        'prev_word': '' if index == 0 else sentence[index - 1],\n",
        "        'next_word': '' if index == len(sentence) - 1 else sentence[index + 1],\n",
        "        'has_hyphen': '-' in sentence[index],\n",
        "        'is_numeric': sentence[index].isdigit(),\n",
        "        'capitals_inside': sentence[index][1:].lower() != sentence[index][1:]\n",
        "    }\n",
        "\n",
        "import pprint\n",
        "pprint.pprint(features(['This', 'is', 'a', 'sentence'], 2)) # index == 2\n",
        "\n",
        "{'capitals_inside': False,\n",
        " 'has_hyphen': False,\n",
        " 'is_all_caps': False,\n",
        " 'is_all_lower': True,\n",
        " 'is_capitalized': False,\n",
        " 'is_first': False,\n",
        " 'is_last': False,\n",
        " 'is_numeric': False,\n",
        " 'next_word': 'sentence',\n",
        " 'prefix-1': 'a',\n",
        " 'prefix-2': 'a',\n",
        " 'prefix-3': 'a',\n",
        " 'prev_word': 'is',\n",
        " 'suffix-1': 'a',\n",
        " 'suffix-2': 'a',\n",
        " 'suffix-3': 'a',\n",
        " 'word': 'a'}\n",
        "\n",
        "# Try different indices\n",
        "\n",
        "############################\n",
        "\n",
        "# Small helper function to strip the tags from our tagged corpus and feed it to our classifier:\n",
        "def untag(tagged_sentence):\n",
        "    return [w for w, t in tagged_sentence]\n",
        "\n",
        "\n",
        "# Split the dataset for training and testing\n",
        "cutoff = int(.75 * len(tagged_sentences))\n",
        "training_sentences = tagged_sentences[:cutoff]\n",
        "test_sentences = tagged_sentences[cutoff:]\n",
        "\n",
        "print(len(training_sentences))   # 2935\n",
        "print(len(test_sentences))      # 979\n",
        "\n",
        "# Transform the list of sentences to a list of features\n",
        "def transform_to_dataset(tagged_sentences):\n",
        "    X, y = [], []\n",
        "\n",
        "    for tagged in tagged_sentences:\n",
        "        for index in range(len(tagged)):\n",
        "            X.append(features(untag(tagged), index))\n",
        "            y.append(tagged[index][1])\n",
        "\n",
        "    return X, y\n",
        "\n",
        "X, y = transform_to_dataset(training_sentences)\n",
        "\n"
      ],
      "metadata": {
        "id": "9MYCJbPmJLYY"
      },
      "execution_count": null,
      "outputs": []
    },
    {
      "cell_type": "code",
      "source": [
        "# We are now ready to train a classifier.\n",
        "\n",
        "###### Now you have to click the \"Run\" bottom above ######\n",
        "###### Do NOT copy & paste the below ######\n",
        "\n",
        "from sklearn.tree import DecisionTreeClassifier\n",
        "from sklearn.feature_extraction import DictVectorizer\n",
        "from sklearn.pipeline import Pipeline\n",
        "\n",
        "clf = Pipeline([\n",
        "    ('vectorizer', DictVectorizer(sparse=False)),\n",
        "    ('classifier', DecisionTreeClassifier(criterion='entropy'))\n",
        "])\n",
        "\n",
        "clf.fit(X[:100], y[:100])   # Use only the first 100 samples if you're running it multiple times. It takes a fair bit :)\n",
        "\n",
        "print(\"Training completed\")\n",
        "\n",
        "X_test, y_test = transform_to_dataset(test_sentences)\n",
        "\n",
        "print (\"Accuracy:\", clf.score(X_test, y_test))\n"
      ],
      "metadata": {
        "id": "POHVKSJuJRSv"
      },
      "execution_count": null,
      "outputs": []
    },
    {
      "cell_type": "code",
      "source": [
        "\n",
        "# Now you can use your classifier to tag any tagged_sentences, such as \"I am studying NLP in UTS.\"\n",
        "def my_pos_tag(sentence):\n",
        "    tags = clf.predict([features(sentence, index) for index in range(len(sentence))])\n",
        "    return (sentence, tags)\n",
        "\n",
        "my_text = word_tokenize(\"I am studying NLP at UTS.\")\n",
        "print(list(my_pos_tag(my_text)))"
      ],
      "metadata": {
        "id": "gcRp9igEJTFa"
      },
      "execution_count": null,
      "outputs": []
    }
  ]
}